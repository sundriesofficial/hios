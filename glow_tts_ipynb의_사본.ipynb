{
  "nbformat": 4,
  "nbformat_minor": 0,
  "metadata": {
    "colab": {
      "provenance": [],
      "collapsed_sections": [
        "IxpzRw3SDvOL"
      ],
      "include_colab_link": true
    },
    "kernelspec": {
      "name": "python3",
      "display_name": "Python 3"
    },
    "accelerator": "GPU"
  },
  "cells": [
    {
      "cell_type": "markdown",
      "metadata": {
        "id": "view-in-github",
        "colab_type": "text"
      },
      "source": [
        "<a href=\"https://colab.research.google.com/github/sundriesofficial/hios/blob/main/glow_tts_ipynb%EC%9D%98_%EC%82%AC%EB%B3%B8.ipynb\" target=\"_parent\"><img src=\"https://colab.research.google.com/assets/colab-badge.svg\" alt=\"Open In Colab\"/></a>"
      ]
    },
    {
      "cell_type": "markdown",
      "metadata": {
        "id": "yIgz4PyCC9eY"
      },
      "source": [
        "# SCE-TTS: Glow-TTS 학습 (v1)\n",
        "\n",
        "이 문서는 SCE-TTS 프로젝트의 Glow-TTS 학습용 문서입니다.\n",
        "\n",
        "이 데모에 대한 더 자세한 정보는 아래 링크에서 확인하실 수 있습니다.  \n",
        "https://sce-tts.github.io/#/v1/index\n",
        "\n",
        "실제 학습을 진행하시려면, 위쪽 메뉴에서 `런타임 -> 모두 실행`을 클릭하신 후,  \n",
        "문서 최하단의 `Glow-TTS 학습 진행`까지 정상적으로 실행되는걸 확인해주시면 됩니다.\n",
        "\n",
        "도중에 문제가 발생한다면, 문제의 원인을 해결한 후 `런타임 -> 런타임 초기화`를 클릭하고,  \n",
        "다시 `런타임 -> 모두 실행`을 클릭해주세요."
      ]
    },
    {
      "cell_type": "code",
      "source": [
        "!git clone https://github.com/NVIDIA/apex\n",
        "%cd apex\n",
        "!pip install -v --disable-pip-version-check --no-cache-dir --global-option=\"--cpp_ext\" --global-option=\"--cuda_ext\" ./\n"
      ],
      "metadata": {
        "colab": {
          "base_uri": "https://localhost:8080/"
        },
        "id": "y6oAfW3_siXt",
        "outputId": "76692bc6-3008-4ea1-abbf-053fb7a4d511"
      },
      "execution_count": 1,
      "outputs": [
        {
          "output_type": "stream",
          "name": "stdout",
          "text": [
            "fatal: destination path 'apex' already exists and is not an empty directory.\n",
            "/content/apex\n",
            "Using pip 23.1.2 from /usr/local/lib/python3.10/dist-packages/pip (python 3.10)\n",
            "\u001b[33mDEPRECATION: --build-option and --global-option are deprecated. pip 23.3 will enforce this behaviour change. A possible replacement is to use --config-settings. Discussion can be found at https://github.com/pypa/pip/issues/11859\u001b[0m\u001b[33m\n",
            "\u001b[0m\u001b[33mWARNING: Implying --no-binary=:all: due to the presence of --build-option / --global-option.\u001b[0m\u001b[33m\n",
            "\u001b[0mProcessing /content/apex\n",
            "  Running command python setup.py egg_info\n",
            "  /content/apex/setup.py:43: UserWarning: Option --pyprof not specified. Not installing PyProf dependencies!\n",
            "    warnings.warn(\"Option --pyprof not specified. Not installing PyProf dependencies!\")\n",
            "  torch.__version__  =  2.0.1+cu118\n",
            "  running egg_info\n",
            "  creating /tmp/pip-pip-egg-info-waa011e2/apex.egg-info\n",
            "  writing /tmp/pip-pip-egg-info-waa011e2/apex.egg-info/PKG-INFO\n",
            "  writing dependency_links to /tmp/pip-pip-egg-info-waa011e2/apex.egg-info/dependency_links.txt\n",
            "  writing top-level names to /tmp/pip-pip-egg-info-waa011e2/apex.egg-info/top_level.txt\n",
            "  writing manifest file '/tmp/pip-pip-egg-info-waa011e2/apex.egg-info/SOURCES.txt'\n",
            "  reading manifest file '/tmp/pip-pip-egg-info-waa011e2/apex.egg-info/SOURCES.txt'\n",
            "  adding license file 'LICENSE'\n",
            "  writing manifest file '/tmp/pip-pip-egg-info-waa011e2/apex.egg-info/SOURCES.txt'\n",
            "  Preparing metadata (setup.py) ... \u001b[?25l\u001b[?25hdone\n",
            "Building wheels for collected packages: apex\n",
            "  Running command python setup.py bdist_wheel\n",
            "  torch.__version__  =  2.0.1+cu118\n",
            "  /content/apex/setup.py:43: UserWarning: Option --pyprof not specified. Not installing PyProf dependencies!\n",
            "    warnings.warn(\"Option --pyprof not specified. Not installing PyProf dependencies!\")\n",
            "  Traceback (most recent call last):\n",
            "    File \"<string>\", line 2, in <module>\n",
            "    File \"<pip-setuptools-caller>\", line 34, in <module>\n",
            "    File \"/content/apex/setup.py\", line 98, in <module>\n",
            "      raise RuntimeError(\"--cuda_ext was requested, but nvcc was not found.  Are you sure your environment has nvcc available?  If you're installing within a container from https://hub.docker.com/r/pytorch/pytorch, only images whose names contain 'devel' will provide nvcc.\")\n",
            "  RuntimeError: --cuda_ext was requested, but nvcc was not found.  Are you sure your environment has nvcc available?  If you're installing within a container from https://hub.docker.com/r/pytorch/pytorch, only images whose names contain 'devel' will provide nvcc.\n",
            "  \u001b[1;31merror\u001b[0m: \u001b[1msubprocess-exited-with-error\u001b[0m\n",
            "  \n",
            "  \u001b[31m×\u001b[0m \u001b[32mpython setup.py bdist_wheel\u001b[0m did not run successfully.\n",
            "  \u001b[31m│\u001b[0m exit code: \u001b[1;36m1\u001b[0m\n",
            "  \u001b[31m╰─>\u001b[0m See above for output.\n",
            "  \n",
            "  \u001b[1;35mnote\u001b[0m: This error originates from a subprocess, and is likely not a problem with pip.\n",
            "  \u001b[1;35mfull command\u001b[0m: \u001b[34m/usr/bin/python3 -u -c '\u001b[0m\n",
            "\u001b[34m  exec(compile('\"'\"''\"'\"''\"'\"'\u001b[0m\n",
            "\u001b[34m  # This is <pip-setuptools-caller> -- a caller that pip uses to run setup.py\u001b[0m\n",
            "\u001b[34m  #\u001b[0m\n",
            "\u001b[34m  # - It imports setuptools before invoking setup.py, to enable projects that directly\u001b[0m\n",
            "\u001b[34m  #   import from `distutils.core` to work with newer packaging standards.\u001b[0m\n",
            "\u001b[34m  # - It provides a clear error message when setuptools is not installed.\u001b[0m\n",
            "\u001b[34m  # - It sets `sys.argv[0]` to the underlying `setup.py`, when invoking `setup.py` so\u001b[0m\n",
            "\u001b[34m  #   setuptools doesn'\"'\"'t think the script is `-c`. This avoids the following warning:\u001b[0m\n",
            "\u001b[34m  #     manifest_maker: standard file '\"'\"'-c'\"'\"' not found\".\u001b[0m\n",
            "\u001b[34m  # - It generates a shim setup.py, for handling setup.cfg-only projects.\u001b[0m\n",
            "\u001b[34m  import os, sys, tokenize\u001b[0m\n",
            "\u001b[34m  \u001b[0m\n",
            "\u001b[34m  try:\u001b[0m\n",
            "\u001b[34m      import setuptools\u001b[0m\n",
            "\u001b[34m  except ImportError as error:\u001b[0m\n",
            "\u001b[34m      print(\u001b[0m\n",
            "\u001b[34m          \"ERROR: Can not execute `setup.py` since setuptools is not available in \"\u001b[0m\n",
            "\u001b[34m          \"the build environment.\",\u001b[0m\n",
            "\u001b[34m          file=sys.stderr,\u001b[0m\n",
            "\u001b[34m      )\u001b[0m\n",
            "\u001b[34m      sys.exit(1)\u001b[0m\n",
            "\u001b[34m  \u001b[0m\n",
            "\u001b[34m  __file__ = %r\u001b[0m\n",
            "\u001b[34m  sys.argv[0] = __file__\u001b[0m\n",
            "\u001b[34m  \u001b[0m\n",
            "\u001b[34m  if os.path.exists(__file__):\u001b[0m\n",
            "\u001b[34m      filename = __file__\u001b[0m\n",
            "\u001b[34m      with tokenize.open(__file__) as f:\u001b[0m\n",
            "\u001b[34m          setup_py_code = f.read()\u001b[0m\n",
            "\u001b[34m  else:\u001b[0m\n",
            "\u001b[34m      filename = \"<auto-generated setuptools caller>\"\u001b[0m\n",
            "\u001b[34m      setup_py_code = \"from setuptools import setup; setup()\"\u001b[0m\n",
            "\u001b[34m  \u001b[0m\n",
            "\u001b[34m  exec(compile(setup_py_code, filename, \"exec\"))\u001b[0m\n",
            "\u001b[34m  '\"'\"''\"'\"''\"'\"' % ('\"'\"'/content/apex/setup.py'\"'\"',), \"<pip-setuptools-caller>\", \"exec\"))' --cpp_ext --cuda_ext bdist_wheel -d /tmp/pip-wheel-l_dvc9m_\u001b[0m\n",
            "  \u001b[1;35mcwd\u001b[0m: /content/apex/\n",
            "  Building wheel for apex (setup.py) ... \u001b[?25lerror\n",
            "\u001b[31m  ERROR: Failed building wheel for apex\u001b[0m\u001b[31m\n",
            "\u001b[0m\u001b[?25h  Running setup.py clean for apex\n",
            "  Running command python setup.py clean\n",
            "  torch.__version__  =  2.0.1+cu118\n",
            "  /content/apex/setup.py:43: UserWarning: Option --pyprof not specified. Not installing PyProf dependencies!\n",
            "    warnings.warn(\"Option --pyprof not specified. Not installing PyProf dependencies!\")\n",
            "  Traceback (most recent call last):\n",
            "    File \"<string>\", line 2, in <module>\n",
            "    File \"<pip-setuptools-caller>\", line 34, in <module>\n",
            "    File \"/content/apex/setup.py\", line 98, in <module>\n",
            "      raise RuntimeError(\"--cuda_ext was requested, but nvcc was not found.  Are you sure your environment has nvcc available?  If you're installing within a container from https://hub.docker.com/r/pytorch/pytorch, only images whose names contain 'devel' will provide nvcc.\")\n",
            "  RuntimeError: --cuda_ext was requested, but nvcc was not found.  Are you sure your environment has nvcc available?  If you're installing within a container from https://hub.docker.com/r/pytorch/pytorch, only images whose names contain 'devel' will provide nvcc.\n",
            "  \u001b[1;31merror\u001b[0m: \u001b[1msubprocess-exited-with-error\u001b[0m\n",
            "  \n",
            "  \u001b[31m×\u001b[0m \u001b[32mpython setup.py clean\u001b[0m did not run successfully.\n",
            "  \u001b[31m│\u001b[0m exit code: \u001b[1;36m1\u001b[0m\n",
            "  \u001b[31m╰─>\u001b[0m See above for output.\n",
            "  \n",
            "  \u001b[1;35mnote\u001b[0m: This error originates from a subprocess, and is likely not a problem with pip.\n",
            "  \u001b[1;35mfull command\u001b[0m: \u001b[34m/usr/bin/python3 -u -c '\u001b[0m\n",
            "\u001b[34m  exec(compile('\"'\"''\"'\"''\"'\"'\u001b[0m\n",
            "\u001b[34m  # This is <pip-setuptools-caller> -- a caller that pip uses to run setup.py\u001b[0m\n",
            "\u001b[34m  #\u001b[0m\n",
            "\u001b[34m  # - It imports setuptools before invoking setup.py, to enable projects that directly\u001b[0m\n",
            "\u001b[34m  #   import from `distutils.core` to work with newer packaging standards.\u001b[0m\n",
            "\u001b[34m  # - It provides a clear error message when setuptools is not installed.\u001b[0m\n",
            "\u001b[34m  # - It sets `sys.argv[0]` to the underlying `setup.py`, when invoking `setup.py` so\u001b[0m\n",
            "\u001b[34m  #   setuptools doesn'\"'\"'t think the script is `-c`. This avoids the following warning:\u001b[0m\n",
            "\u001b[34m  #     manifest_maker: standard file '\"'\"'-c'\"'\"' not found\".\u001b[0m\n",
            "\u001b[34m  # - It generates a shim setup.py, for handling setup.cfg-only projects.\u001b[0m\n",
            "\u001b[34m  import os, sys, tokenize\u001b[0m\n",
            "\u001b[34m  \u001b[0m\n",
            "\u001b[34m  try:\u001b[0m\n",
            "\u001b[34m      import setuptools\u001b[0m\n",
            "\u001b[34m  except ImportError as error:\u001b[0m\n",
            "\u001b[34m      print(\u001b[0m\n",
            "\u001b[34m          \"ERROR: Can not execute `setup.py` since setuptools is not available in \"\u001b[0m\n",
            "\u001b[34m          \"the build environment.\",\u001b[0m\n",
            "\u001b[34m          file=sys.stderr,\u001b[0m\n",
            "\u001b[34m      )\u001b[0m\n",
            "\u001b[34m      sys.exit(1)\u001b[0m\n",
            "\u001b[34m  \u001b[0m\n",
            "\u001b[34m  __file__ = %r\u001b[0m\n",
            "\u001b[34m  sys.argv[0] = __file__\u001b[0m\n",
            "\u001b[34m  \u001b[0m\n",
            "\u001b[34m  if os.path.exists(__file__):\u001b[0m\n",
            "\u001b[34m      filename = __file__\u001b[0m\n",
            "\u001b[34m      with tokenize.open(__file__) as f:\u001b[0m\n",
            "\u001b[34m          setup_py_code = f.read()\u001b[0m\n",
            "\u001b[34m  else:\u001b[0m\n",
            "\u001b[34m      filename = \"<auto-generated setuptools caller>\"\u001b[0m\n",
            "\u001b[34m      setup_py_code = \"from setuptools import setup; setup()\"\u001b[0m\n",
            "\u001b[34m  \u001b[0m\n",
            "\u001b[34m  exec(compile(setup_py_code, filename, \"exec\"))\u001b[0m\n",
            "\u001b[34m  '\"'\"''\"'\"''\"'\"' % ('\"'\"'/content/apex/setup.py'\"'\"',), \"<pip-setuptools-caller>\", \"exec\"))' --cpp_ext --cuda_ext clean --all\u001b[0m\n",
            "  \u001b[1;35mcwd\u001b[0m: /content/apex\n",
            "\u001b[31m  ERROR: Failed cleaning build dir for apex\u001b[0m\u001b[31m\n",
            "\u001b[0mFailed to build apex\n",
            "\u001b[31mERROR: Could not build wheels for apex, which is required to install pyproject.toml-based projects\u001b[0m\u001b[31m\n",
            "\u001b[0m"
          ]
        }
      ]
    },
    {
      "cell_type": "code",
      "source": [
        "!pip install unidecode\n"
      ],
      "metadata": {
        "colab": {
          "base_uri": "https://localhost:8080/"
        },
        "id": "m0TlLcAesh2l",
        "outputId": "7d757bfc-5bf8-49c0-cb17-6ae1340d4d9b"
      },
      "execution_count": 2,
      "outputs": [
        {
          "output_type": "stream",
          "name": "stdout",
          "text": [
            "Collecting unidecode\n",
            "  Downloading Unidecode-1.3.6-py3-none-any.whl (235 kB)\n",
            "\u001b[?25l     \u001b[90m━━━━━━━━━━━━━━━━━━━━━━━━━━━━━━━━━━━━━━━━\u001b[0m \u001b[32m0.0/235.9 kB\u001b[0m \u001b[31m?\u001b[0m eta \u001b[36m-:--:--\u001b[0m\r\u001b[2K     \u001b[90m━━━━━━━━━━━━━━━━━━━━━━━━━━━━━━━━━━━━━━\u001b[0m \u001b[32m235.9/235.9 kB\u001b[0m \u001b[31m13.5 MB/s\u001b[0m eta \u001b[36m0:00:00\u001b[0m\n",
            "\u001b[?25hInstalling collected packages: unidecode\n",
            "Successfully installed unidecode-1.3.6\n"
          ]
        }
      ]
    },
    {
      "cell_type": "markdown",
      "metadata": {
        "id": "nMJBiJ6mECO1"
      },
      "source": [
        "## 1. 할당된 GPU 확인\n",
        "\n",
        "현재 런타임에 할당된 GPU를 확인합니다.\n",
        "\n",
        "만약, `GPU: NVIDIA-SMI has failed because it couldn't communicate with the NVIDIA driver. Make sure that the latest NVIDIA driver is installed and running.` 라는 메시지가 출력된다면, 위쪽 메뉴에서 `런타임 -> 런타임 유형 변경`을 클릭하고 하드웨어 가속기를 `GPU`로 변경하여 저장한 후 다시 실행해주세요."
      ]
    },
    {
      "cell_type": "code",
      "metadata": {
        "id": "pHat88bRD4_e",
        "colab": {
          "base_uri": "https://localhost:8080/"
        },
        "outputId": "ff672727-f339-4b03-f316-1653eb3d79af"
      },
      "source": [
        "import os\n",
        "GPU_NAME = os.popen('nvidia-smi --query-gpu=name --format=csv,noheader').read().strip()\n",
        "os.environ['GPU_NAME'] = GPU_NAME\n",
        "print(f'GPU: {GPU_NAME}')"
      ],
      "execution_count": 3,
      "outputs": [
        {
          "output_type": "stream",
          "name": "stdout",
          "text": [
            "GPU: Tesla T4\n"
          ]
        }
      ]
    },
    {
      "cell_type": "markdown",
      "metadata": {
        "id": "CEgknkRoDKj9"
      },
      "source": [
        "## 2. 구글 드라이브 마운트\n",
        "\n",
        "음성합성을 위해 학습한 모델이 있는 구글 드라이브를 마운트합니다.  \n",
        "마운트할 구글 드라이브 내에 다음 파일이 존재하는지 꼭 확인해주세요.\n",
        "\n",
        "- `/Colab Notebooks/data/filelists.zip`\n",
        "\n",
        "(존재하지 않는다면, [음성 데이터셋 변환](https://sce-tts.github.io/#/v1/recoding?id=%EC%9D%8C%EC%84%B1-%EB%8D%B0%EC%9D%B4%ED%84%B0%EC%85%8B-%EB%B3%80%ED%99%98)문서를 참조하여 준비해주세요.)\n",
        "\n",
        "만약 아래에 `Enter your authorization code:`과 같은 메시지가 출력될 경우,  \n",
        "같이 출력된 링크에 접속하여, 마운트할 구글 계정을 선택하신 후, 인증 코드를 복사하여 입력해주세요."
      ]
    },
    {
      "cell_type": "code",
      "metadata": {
        "id": "4U2wrDOthrsF",
        "colab": {
          "base_uri": "https://localhost:8080/"
        },
        "outputId": "6f5b24ac-4f84-445a-a746-a24b356a98a1"
      },
      "source": [
        "from google.colab import drive\n",
        "drive.mount('/content/drive')"
      ],
      "execution_count": 4,
      "outputs": [
        {
          "output_type": "stream",
          "name": "stdout",
          "text": [
            "Drive already mounted at /content/drive; to attempt to forcibly remount, call drive.mount(\"/content/drive\", force_remount=True).\n"
          ]
        }
      ]
    },
    {
      "cell_type": "markdown",
      "metadata": {
        "id": "IxpzRw3SDvOL"
      },
      "source": [
        "## 3. 필수 라이브러리 및 함수 불러오기\n",
        "\n",
        "실행에 필요한 라이브러리 및 함수를 불러옵니다.\n",
        "\n",
        "이 과정은 약 10분 정도 소요될 수 있습니다."
      ]
    },
    {
      "cell_type": "code",
      "metadata": {
        "id": "PIy8eHZ7nKzT",
        "colab": {
          "base_uri": "https://localhost:8080/"
        },
        "outputId": "9a9d0b61-fe3d-4e46-a6c6-78957b85d512"
      },
      "source": [
        "# Change CUDA version to 10.1\n",
        "!rm /usr/local/cuda\n",
        "!ln -s /usr/local/cuda-10.1 /usr/local/cuda\n",
        "\n",
        "# check if installed successfully\n",
        "!nvcc --version"
      ],
      "execution_count": 5,
      "outputs": [
        {
          "output_type": "stream",
          "name": "stdout",
          "text": [
            "/bin/bash: nvcc: command not found\n"
          ]
        }
      ]
    },
    {
      "cell_type": "code",
      "metadata": {
        "id": "jYCym6hXge2_"
      },
      "source": [
        "import sys\n",
        "from pathlib import Path\n",
        "from pprint import pprint"
      ],
      "execution_count": 6,
      "outputs": []
    },
    {
      "cell_type": "code",
      "metadata": {
        "id": "NJeU25GOgoE5",
        "colab": {
          "base_uri": "https://localhost:8080/"
        },
        "outputId": "902420e1-f4ff-4793-9fd9-f17ac9b83f1f"
      },
      "source": [
        "%tensorflow_version 2.x"
      ],
      "execution_count": 7,
      "outputs": [
        {
          "output_type": "stream",
          "name": "stdout",
          "text": [
            "Colab only includes TensorFlow 2.x; %tensorflow_version has no effect.\n"
          ]
        }
      ]
    },
    {
      "cell_type": "code",
      "metadata": {
        "id": "JkWG-L13gReB",
        "colab": {
          "base_uri": "https://localhost:8080/"
        },
        "outputId": "28d8738b-dc55-4127-940f-5bbc033b81ba"
      },
      "source": [
        "%cd /content\n",
        "!git clone --depth 1 https://github.com/sce-tts/glow-tts.git\n",
        "%cd /content/glow-tts\n",
        "!pip install -q --no-cache-dir \"torch==1.5.1\" -f https://download.pytorch.org/whl/cu101/torch_stable.html\n",
        "!pip install -q --no-cache-dir \"cython==0.29.12\" \"librosa==0.6.0\" \"numpy==1.16.4\" \"scipy==1.3.0\" \"numba==0.48\" \"Unidecode==1.0.22\" \"tensorflow==2.3.0\" \"inflect==4.1.0\" \"matplotlib==3.3.0\""
      ],
      "execution_count": 8,
      "outputs": [
        {
          "output_type": "stream",
          "name": "stdout",
          "text": [
            "/content\n",
            "fatal: destination path 'glow-tts' already exists and is not an empty directory.\n",
            "/content/glow-tts\n",
            "\u001b[31mERROR: Could not find a version that satisfies the requirement torch==1.5.1 (from versions: 1.11.0, 1.12.0, 1.12.1, 1.13.0, 1.13.1, 2.0.0, 2.0.1)\u001b[0m\u001b[31m\n",
            "\u001b[0m\u001b[31mERROR: No matching distribution found for torch==1.5.1\u001b[0m\u001b[31m\n",
            "\u001b[2K     \u001b[90m━━━━━━━━━━━━━━━━━━━━━━━━━━━━━━━━━━━━━━━━\u001b[0m \u001b[32m2.1/2.1 MB\u001b[0m \u001b[31m66.3 MB/s\u001b[0m eta \u001b[36m0:00:00\u001b[0m\n",
            "\u001b[?25h  \u001b[1;31merror\u001b[0m: \u001b[1msubprocess-exited-with-error\u001b[0m\n",
            "  \n",
            "  \u001b[31m×\u001b[0m \u001b[32mpython setup.py egg_info\u001b[0m did not run successfully.\n",
            "  \u001b[31m│\u001b[0m exit code: \u001b[1;36m1\u001b[0m\n",
            "  \u001b[31m╰─>\u001b[0m See above for output.\n",
            "  \n",
            "  \u001b[1;35mnote\u001b[0m: This error originates from a subprocess, and is likely not a problem with pip.\n",
            "  Preparing metadata (setup.py) ... \u001b[?25l\u001b[?25herror\n",
            "\u001b[1;31merror\u001b[0m: \u001b[1mmetadata-generation-failed\u001b[0m\n",
            "\n",
            "\u001b[31m×\u001b[0m Encountered error while generating package metadata.\n",
            "\u001b[31m╰─>\u001b[0m See above for output.\n",
            "\n",
            "\u001b[1;35mnote\u001b[0m: This is an issue with the package mentioned above, not pip.\n",
            "\u001b[1;36mhint\u001b[0m: See above for details.\n"
          ]
        }
      ]
    },
    {
      "cell_type": "code",
      "metadata": {
        "id": "qN8B4Z__710q",
        "colab": {
          "base_uri": "https://localhost:8080/"
        },
        "outputId": "b32dab24-72b7-426d-cf94-16c9775efecc"
      },
      "source": [
        "%cd /content\n",
        "!git clone https://github.com/NVIDIA/apex /content/apex\n",
        "%cd /content/apex\n",
        "!git checkout 37cdaf4\n",
        "!pip install -q --no-cache-dir --global-option=\"--cpp_ext\" --global-option=\"--cuda_ext\" ."
      ],
      "execution_count": 9,
      "outputs": [
        {
          "output_type": "stream",
          "name": "stdout",
          "text": [
            "/content\n",
            "fatal: destination path '/content/apex' already exists and is not an empty directory.\n",
            "/content/apex\n",
            "HEAD is now at 37cdaf4 fixing batchnorm 1d input (#590)\n",
            "\u001b[33mDEPRECATION: --build-option and --global-option are deprecated. pip 23.3 will enforce this behaviour change. A possible replacement is to use --config-settings. Discussion can be found at https://github.com/pypa/pip/issues/11859\u001b[0m\u001b[33m\n",
            "\u001b[0m\u001b[33mWARNING: Implying --no-binary=:all: due to the presence of --build-option / --global-option.\u001b[0m\u001b[33m\n",
            "\u001b[0m  Preparing metadata (setup.py) ... \u001b[?25l\u001b[?25hdone\n",
            "  \u001b[1;31merror\u001b[0m: \u001b[1msubprocess-exited-with-error\u001b[0m\n",
            "  \n",
            "  \u001b[31m×\u001b[0m \u001b[32mpython setup.py bdist_wheel\u001b[0m did not run successfully.\n",
            "  \u001b[31m│\u001b[0m exit code: \u001b[1;36m1\u001b[0m\n",
            "  \u001b[31m╰─>\u001b[0m See above for output.\n",
            "  \n",
            "  \u001b[1;35mnote\u001b[0m: This error originates from a subprocess, and is likely not a problem with pip.\n",
            "  Building wheel for apex (setup.py) ... \u001b[?25lerror\n",
            "\u001b[31m  ERROR: Failed building wheel for apex\u001b[0m\u001b[31m\n",
            "\u001b[0m  \u001b[1;31merror\u001b[0m: \u001b[1msubprocess-exited-with-error\u001b[0m\n",
            "  \n",
            "  \u001b[31m×\u001b[0m \u001b[32mpython setup.py clean\u001b[0m did not run successfully.\n",
            "  \u001b[31m│\u001b[0m exit code: \u001b[1;36m1\u001b[0m\n",
            "  \u001b[31m╰─>\u001b[0m See above for output.\n",
            "  \n",
            "  \u001b[1;35mnote\u001b[0m: This error originates from a subprocess, and is likely not a problem with pip.\n",
            "\u001b[31m  ERROR: Failed cleaning build dir for apex\u001b[0m\u001b[31m\n",
            "\u001b[0m\u001b[31mERROR: Could not build wheels for apex, which is required to install pyproject.toml-based projects\u001b[0m\u001b[31m\n",
            "\u001b[0m\u001b[?25h"
          ]
        }
      ]
    },
    {
      "cell_type": "code",
      "metadata": {
        "id": "2pKg2LRz9nkg",
        "colab": {
          "base_uri": "https://localhost:8080/"
        },
        "outputId": "09cbd288-33e5-4eb8-8f30-093b95368da4"
      },
      "source": [
        "%cd /content/glow-tts/monotonic_align\n",
        "!python setup.py build_ext --inplace"
      ],
      "execution_count": 10,
      "outputs": [
        {
          "output_type": "stream",
          "name": "stdout",
          "text": [
            "/content/glow-tts/monotonic_align\n",
            "error: could not create 'monotonic_align/core.cpython-310-x86_64-linux-gnu.so': No such file or directory\n"
          ]
        }
      ]
    },
    {
      "cell_type": "markdown",
      "metadata": {
        "id": "iiXsxJtZERyP"
      },
      "source": [
        "## 4. 학습할 데이터셋 불러오기\n",
        "\n",
        "학습에 사용할 음성 데이터를 구글 드라이브에서 가져옵니다."
      ]
    },
    {
      "cell_type": "code",
      "metadata": {
        "id": "hExnC_2RhZ3m",
        "colab": {
          "base_uri": "https://localhost:8080/"
        },
        "outputId": "c62a8c54-bb48-4cff-a620-a0e971c14b84"
      },
      "source": [
        "%cd /content/glow-tts\n",
        "# !gdown --id 1UpoBaZRTJXkTdsoemLBWV48QClm6hpTX -O filelists.zip\n",
        "!cp \"/content/drive/My Drive/Colab Notebooks/data/filelists.zip\" ./filelists.zip\n",
        "!rm -rf ./filelists\n",
        "!unzip -q filelists.zip -d ./filelists"
      ],
      "execution_count": 11,
      "outputs": [
        {
          "output_type": "stream",
          "name": "stdout",
          "text": [
            "/content/glow-tts\n"
          ]
        }
      ]
    },
    {
      "cell_type": "markdown",
      "metadata": {
        "id": "qD8zd4SMElbn"
      },
      "source": [
        "## 5. 사전 학습 데이터 불러오기\n",
        "\n",
        "사전 학습 데이터가 구글 드라이브에 존재하지 않을 경우,  \n",
        "SleepingCE Speech Dataset의 사전 학습 데이터를 내려받습니다."
      ]
    },
    {
      "cell_type": "code",
      "metadata": {
        "id": "MQxazTNayds-",
        "colab": {
          "base_uri": "https://localhost:8080/"
        },
        "outputId": "9fa9bb99-8275-4877-bdd0-2c163aa504ee"
      },
      "source": [
        "%cd /content/glow-tts\n",
        "!mkdir -p \"/content/drive/My Drive/Colab Notebooks/data/glow-tts\"\n",
        "if not Path(\"/content/drive/My Drive/Colab Notebooks/data/glow-tts/config.json\").exists():\n",
        "    !gdown --id 1js-v4ZjeOEPO1XpcBHFfwk7Ta8aDBAkg -O public.tar.gz\n",
        "    !tar -zxf public.tar.gz -C \"/content\"\n",
        "    !cp -R /content/public/glow-tts/* \"/content/drive/My Drive/Colab Notebooks/data/glow-tts/\""
      ],
      "execution_count": 12,
      "outputs": [
        {
          "output_type": "stream",
          "name": "stdout",
          "text": [
            "/content/glow-tts\n"
          ]
        }
      ]
    },
    {
      "cell_type": "markdown",
      "metadata": {
        "id": "alQe2KpbE9di"
      },
      "source": [
        "## 6. TensorBoard 실행\n",
        "\n",
        "학습 진행을 확인하기 위해 TensorBoard를 실행합니다.\n",
        "\n",
        "최신 학습 진행 상황을 확인하려면 TensorBoard 우측 상단의 새로고침 아이콘을 클릭해주세요."
      ]
    },
    {
      "cell_type": "code",
      "metadata": {
        "id": "ydwAZhCQilzJ",
        "colab": {
          "base_uri": "https://localhost:8080/",
          "height": 34
        },
        "outputId": "800a43c2-a726-4fa0-beaf-df0cc9defa89"
      },
      "source": [
        "%load_ext tensorboard\n",
        "%tensorboard --logdir=\"/content/drive/My Drive/Colab Notebooks/data/glow-tts\""
      ],
      "execution_count": null,
      "outputs": [
        {
          "output_type": "display_data",
          "data": {
            "text/plain": [
              "Launching TensorBoard..."
            ]
          },
          "metadata": {}
        }
      ]
    },
    {
      "cell_type": "markdown",
      "metadata": {
        "id": "32XUNFa-FQ-R"
      },
      "source": [
        "## 7. Glow-TTS 학습 진행\n",
        "\n",
        "실제 Glow-TTS 학습을 진행합니다.\n",
        "\n",
        "학습이 정상적으로 진행되면, 이 셀은 종료되지 않고 계속 실행되는 상태를 유지합니다.\n",
        "\n",
        "학습 진행 정도를 시각적으로 확인하시려면 바로 위의 TensorBoard를 참고해주세요.\n",
        "\n",
        "학습된 결과를 확인하고 싶으시다면, 가장 최근 체크포인트를 [SCE-TTS: 음성합성 데모](https://colab.research.google.com/drive/13pqat2mWsMha7Vn_-Q5_Ih8MDkvz3q5a)에서 불러와 확인할 수 있습니다."
      ]
    },
    {
      "cell_type": "code",
      "metadata": {
        "id": "9Yim0zgJk3cR"
      },
      "source": [
        "%cd /content/glow-tts\n",
        "!python init.py -c configs/base.json -m \"/content/drive/My Drive/Colab Notebooks/data/glow-tts\"\n",
        "!python train.py -c configs/base.json -m \"/content/drive/My Drive/Colab Notebooks/data/glow-tts\""
      ],
      "execution_count": null,
      "outputs": []
    }
  ]
}